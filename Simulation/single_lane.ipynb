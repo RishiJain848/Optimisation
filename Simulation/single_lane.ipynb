{
 "cells": [
  {
   "cell_type": "code",
   "execution_count": 1,
   "metadata": {},
   "outputs": [],
   "source": [
    "import sys\n",
    "import pandas as pd\n",
    "import numpy as np\n",
    "import matplotlib.pyplot as plt\n",
    "import time"
   ]
  },
  {
   "cell_type": "code",
   "execution_count": 2,
   "metadata": {},
   "outputs": [],
   "source": [
    "#movement of truck\n",
    "\n",
    "def next_position(truck,time):\n",
    "    x_curr = truck['x_curr']\n",
    "    curr_dirn = truck['curr_dirn']\n",
    "    speed = truck['speed']\n",
    "    time = time\n",
    "    return(x_curr + (curr_dirn*speed*time))"
   ]
  },
  {
   "cell_type": "code",
   "execution_count": 3,
   "metadata": {},
   "outputs": [],
   "source": [
    "#forward moving truck arrival initiation\n",
    "\n",
    "def for_truck_arr(trucks,time,position_of_junct):\n",
    "    temp = {'x_curr':position_of_junct[0],'curr_dirn':1,'speed':1,'reverse_speed':1,'root_dirn':1,'arr_time':time,'depart_time':0,\n",
    "        'for_dist':0,'back_dist':0}\n",
    "    return trucks.append(temp)"
   ]
  },
  {
   "cell_type": "code",
   "execution_count": 4,
   "metadata": {},
   "outputs": [],
   "source": [
    "#backward moving truck arrival initiation\n",
    "\n",
    "def back_truck_arr(trucks,time,position_of_junct):\n",
    "    temp = {'x_curr':position_of_junct[-1],'curr_dirn':-1,'speed':1,'reverse_speed':1,'root_dirn':-1,'arr_time':time,'depart_time':0,\n",
    "        'for_dist':0,'back_dist':0}\n",
    "    return trucks.append(temp)"
   ]
  },
  {
   "cell_type": "code",
   "execution_count": 5,
   "metadata": {},
   "outputs": [],
   "source": [
    "#check if any of 2 trucks are near junctions, which means no need to consider collision\n",
    "\n",
    "def not_near_junct(truck_1,truck_2,position_of_junct,time_delta):\n",
    "    for i in range(0,len(position_of_junct)):\n",
    "        if (abs(truck_1['x_curr'] - position_of_junct[i]) <= (truck_1['speed']*time_delta)) or (abs(truck_2['x_curr'] - position_of_junct[i]) <= (truck_2['speed']*time_delta)):\n",
    "            return(0)\n",
    "    \n",
    "    return(1)"
   ]
  },
  {
   "cell_type": "code",
   "execution_count": 6,
   "metadata": {},
   "outputs": [],
   "source": [
    "def dist_from_left_junc(x):\n",
    "    \n",
    "    for i in range(0,len(position_of_junct)):\n",
    "        if x-position_of_junct[i] < 0:\n",
    "            return(x-position_of_junct[i-1])\n",
    "    \n",
    "    return(0)\n",
    "\n",
    "def dist_from_right_junc(x):\n",
    "    \n",
    "    for i in range(0,len(position_of_junct)):\n",
    "        if x-position_of_junct[i] <= 0:\n",
    "            return(abs(x-position_of_junct[i]))\n",
    "    \n",
    "    return(0)"
   ]
  },
  {
   "cell_type": "code",
   "execution_count": 7,
   "metadata": {},
   "outputs": [],
   "source": [
    "#\n",
    "\n",
    "def movement_desicion(trucks,collisions):\n",
    "    \n",
    "    if len(collisions) > 1:\n",
    "        for i in range(0,len(collisions)-1):\n",
    "            temp_coll = collisions[i]\n",
    "            if len(temp_coll) > 1:                                     #merging collision pairs if multiple trucks on the same position\n",
    "                for j in range(0,len(temp_coll)):\n",
    "                    for k in range(i+1,len(collisions)):\n",
    "                        if temp_coll[j] in collisions[k]:\n",
    "                            collisions[i].extend(collisions[k])\n",
    "                            collisions[k] = []\n",
    "\n",
    "    for i in range(0,len(collisions)):\n",
    "        if len(collisions[i]) <= 1:\n",
    "            collisions[i] = []\n",
    " \n",
    "    collisions = [x for x in collisions if x != []]                   #removing trucks with no collisions\n",
    "\n",
    "    if len(collisions) > 0:\n",
    "        for i in range(0,len(collisions)):                             #assigning direction to trucks at one point in order to clear traffic, acc to less reverse cumulative total dist to be travelled given which trucks move backward\n",
    "\n",
    "            temp_coll = collisions[i]\n",
    "            temp_for = 0\n",
    "            temp_back = 0\n",
    "            dist_from_prev_junc = dist_from_left_junc(trucks[temp_coll[0]]['x_curr'])\n",
    "            dist_from_next_junc = dist_from_right_junc(trucks[temp_coll[0]]['x_curr'])\n",
    "\n",
    "            for j in range(0,len(temp_coll)):\n",
    "                if trucks[temp_coll[j]]['root_dirn'] == 1:\n",
    "                    temp_for = temp_for + 1\n",
    "\n",
    "                if trucks[temp_coll[j]]['root_dirn'] == -1:\n",
    "                    temp_back = temp_back + 1\n",
    "\n",
    "            if ((temp_for*dist_from_prev_junc) >= (temp_back*dist_from_next_junc)):\n",
    "                temp_curr = 1\n",
    "\n",
    "            else:\n",
    "                temp_curr = -1\n",
    "\n",
    "            for j in range(0,len(temp_coll)):\n",
    "                trucks[temp_coll[j]]['curr_dirn'] = temp_curr"
   ]
  },
  {
   "cell_type": "code",
   "execution_count": 8,
   "metadata": {},
   "outputs": [],
   "source": [
    "#initialization of params\n",
    "\n",
    "time_delta = 0.0001                    #4th decimal place , will require this in rounding off to avoid floating point sum precision error\n",
    "no_of_junctions = 16                   #including start and end node\n",
    "#dist_bw_junct = [1]*no_of_junctions    #taken const and same\n",
    "\n",
    "mu=5\n",
    "sigma=2\n",
    "position_of_junct = np.random.normal(mu, sigma, no_of_junctions-2)\n",
    "position_of_junct= [round(xyz,2) for xyz in position_of_junct]\n",
    "position_of_junct.sort()\n",
    "position_of_junct.append(10)\n",
    "position_of_junct=[0]+position_of_junct\n",
    "\n",
    "#junct_capacity = []\n",
    "#junct_use_count = []\n",
    "\n",
    "#trucks arrive at both ends following uniform dist\n",
    "no_of_trucks_to_sim_each_dir = 5\n",
    "sim_run_totaltime = 50\n",
    "for_truck_arr_times = np.sort([round(num,2) for num in np.random.uniform(0,sim_run_totaltime/2,no_of_trucks_to_sim_each_dir)])\n",
    "back_truck_arr_times = np.sort([round(num,2) for num in np.random.uniform(0,sim_run_totaltime/2,no_of_trucks_to_sim_each_dir)])"
   ]
  },
  {
   "cell_type": "code",
   "execution_count": 9,
   "metadata": {},
   "outputs": [
    {
     "data": {
      "text/plain": [
       "array([ 4.5 , 12.64, 14.19, 16.43, 24.93])"
      ]
     },
     "execution_count": 9,
     "metadata": {},
     "output_type": "execute_result"
    }
   ],
   "source": [
    "for_truck_arr_times"
   ]
  },
  {
   "cell_type": "code",
   "execution_count": 10,
   "metadata": {},
   "outputs": [
    {
     "data": {
      "text/plain": [
       "array([ 0.55,  4.95, 15.57, 19.26, 22.58])"
      ]
     },
     "execution_count": 10,
     "metadata": {},
     "output_type": "execute_result"
    }
   ],
   "source": [
    "back_truck_arr_times"
   ]
  },
  {
   "cell_type": "code",
   "execution_count": 11,
   "metadata": {},
   "outputs": [
    {
     "name": "stdout",
     "output_type": "stream",
     "text": [
      "simulation ends early\n"
     ]
    }
   ],
   "source": [
    "#simulation starts\n",
    "\n",
    "trucks = []                                #list of trucks running\n",
    "reached_trucks = []                        #list of trucks reached to their destination\n",
    "t = 0                                      #global timeline\n",
    "\n",
    "while t < sim_run_totaltime:                            #simulate for 1000 unit times or can change to condition when all trucks reach their detination \n",
    "    \n",
    "    #print(t)\n",
    "    \n",
    "    if len(trucks) == 0 and t > max(max(for_truck_arr_times),max(back_truck_arr_times)):                   #stop simulation if all trucks reached\n",
    "        print('simulation ends early')\n",
    "        break\n",
    "    \n",
    "    if(t in for_truck_arr_times):          #trucks arrive at start node\n",
    "        for_truck_arr(trucks,t,position_of_junct)\n",
    "    if(t in  back_truck_arr_times):        #trucks arrive at end node \n",
    "        back_truck_arr(trucks,t,position_of_junct)\n",
    "    \n",
    "    t = round(t + time_delta,4)                            #time increment\n",
    "    \n",
    "    if len(trucks) > 0:                                    #all this calculations if any trucks running  \n",
    "        for i in range(0,len(trucks)):                     #reseting truck movement direction ones it reaches junction after moving reverse dir\n",
    "            if trucks[i]['x_curr'] in position_of_junct:\n",
    "                trucks[i]['curr_dirn'] = trucks[i]['root_dirn']\n",
    "\n",
    "\n",
    "        collisions = []                                    #observing collisions over complete path\n",
    "        temp_trucks = trucks\n",
    "        for i in range(0,len(temp_trucks)):\n",
    "\n",
    "            temp_coll = [i]\n",
    "            temp_1 = temp_trucks[i]\n",
    "\n",
    "            for j in range(i+1,len(temp_trucks)):\n",
    "\n",
    "                temp_2 = temp_trucks[j]\n",
    "                if not_near_junct(temp_1,temp_2,position_of_junct,time_delta):           #if not near junctions and unit dist close to each other moving in opp directions\n",
    "                    if abs(temp_1['x_curr'] - temp_2['x_curr']) <= (temp_1['speed']*time_delta) and temp_1['curr_dirn'] != temp_2['curr_dirn']:\n",
    "                        temp_coll.append(j)\n",
    "\n",
    "            collisions.append(temp_coll)\n",
    "\n",
    "        movement_desicion(trucks,collisions)              #change current directions of trucks acc to cumulative closeness to nearby nodes, in order to make decision which of the trucks move in reverse direction\n",
    "        \n",
    "        remove_trucks = []\n",
    "        \n",
    "        for i in range(0,len(trucks)):\n",
    "            \n",
    "                                        #stop trucks if reached destination, remove them from active running trucks\n",
    "            \n",
    "            if trucks[i]['root_dirn'] == 1:\n",
    "                if (trucks[i]['x_curr'] >= position_of_junct[-1]):\n",
    "                    trucks[i]['depart_time'] = t\n",
    "                    reached_trucks.append(trucks[i])\n",
    "                    remove_trucks.append(i)\n",
    "                    #trucks.pop(i)\n",
    "                    #trucks[i]['speed'] = 0\n",
    "                    #trucks[i]['reverse_speed'] = 0 \n",
    "\n",
    "            if trucks[i]['root_dirn'] == -1:\n",
    "                if (trucks[i]['x_curr'] <= position_of_junct[0]):\n",
    "                    trucks[i]['depart_time'] = t\n",
    "                    reached_trucks.append(trucks[i])\n",
    "                    remove_trucks.append(i)\n",
    "                    #trucks.pop(i)\n",
    "                    #trucks[i]['speed'] = 0\n",
    "                    #trucks[i]['reverse_speed'] = 0 \n",
    "        \n",
    "        for k in remove_trucks:\n",
    "            trucks.pop(k)\n",
    "        \n",
    "                                                                          #add forward or backward movement for trucks \n",
    "        if len(trucks) > 0:\n",
    "            for i in range(0,len(trucks)):\n",
    "                if trucks[i]['curr_dirn'] == trucks[i]['root_dirn']:\n",
    "                    trucks[i]['for_dist'] = trucks[i]['for_dist'] + trucks[i]['speed']*time_delta\n",
    "\n",
    "                else:\n",
    "                    trucks[i]['back_dist'] = trucks[i]['back_dist'] + trucks[i]['speed']*time_delta\n",
    "\n",
    "\n",
    "                trucks[i]['x_curr'] = round(next_position(trucks[i],time_delta),4)     #move truck to next position accordingly"
   ]
  },
  {
   "cell_type": "code",
   "execution_count": 12,
   "metadata": {},
   "outputs": [
    {
     "data": {
      "text/plain": [
       "35.6901"
      ]
     },
     "execution_count": 12,
     "metadata": {},
     "output_type": "execute_result"
    }
   ],
   "source": [
    "t"
   ]
  },
  {
   "cell_type": "code",
   "execution_count": 13,
   "metadata": {},
   "outputs": [
    {
     "data": {
      "text/plain": [
       "[]"
      ]
     },
     "execution_count": 13,
     "metadata": {},
     "output_type": "execute_result"
    }
   ],
   "source": [
    "trucks"
   ]
  },
  {
   "cell_type": "code",
   "execution_count": 14,
   "metadata": {},
   "outputs": [
    {
     "data": {
      "text/plain": [
       "[{'x_curr': 0.0,\n",
       "  'curr_dirn': -1,\n",
       "  'speed': 1,\n",
       "  'reverse_speed': 1,\n",
       "  'root_dirn': -1,\n",
       "  'arr_time': 0.55,\n",
       "  'depart_time': 11.4401,\n",
       "  'for_dist': 10.444999999988996,\n",
       "  'back_dist': 0.4449999999999673},\n",
       " {'x_curr': 10.0,\n",
       "  'curr_dirn': 1,\n",
       "  'speed': 1,\n",
       "  'reverse_speed': 1,\n",
       "  'root_dirn': 1,\n",
       "  'arr_time': 4.5,\n",
       "  'depart_time': 14.9701,\n",
       "  'for_dist': 10.234999999989485,\n",
       "  'back_dist': 0.23499999999999044},\n",
       " {'x_curr': 0.0,\n",
       "  'curr_dirn': -1,\n",
       "  'speed': 1,\n",
       "  'reverse_speed': 1,\n",
       "  'root_dirn': -1,\n",
       "  'arr_time': 4.95,\n",
       "  'depart_time': 21.4701,\n",
       "  'for_dist': 13.259999999982435,\n",
       "  'back_dist': 3.260000000002455},\n",
       " {'x_curr': 10.0,\n",
       "  'curr_dirn': 1,\n",
       "  'speed': 1,\n",
       "  'reverse_speed': 1,\n",
       "  'root_dirn': 1,\n",
       "  'arr_time': 12.64,\n",
       "  'depart_time': 24.0001,\n",
       "  'for_dist': 10.679999999988448,\n",
       "  'back_dist': 0.6799999999999414},\n",
       " {'x_curr': 10.0,\n",
       "  'curr_dirn': 1,\n",
       "  'speed': 1,\n",
       "  'reverse_speed': 1,\n",
       "  'root_dirn': 1,\n",
       "  'arr_time': 14.19,\n",
       "  'depart_time': 24.1901,\n",
       "  'for_dist': 9.999999999990033,\n",
       "  'back_dist': 0},\n",
       " {'x_curr': 0.0,\n",
       "  'curr_dirn': -1,\n",
       "  'speed': 1,\n",
       "  'reverse_speed': 1,\n",
       "  'root_dirn': -1,\n",
       "  'arr_time': 15.57,\n",
       "  'depart_time': 25.6901,\n",
       "  'for_dist': 10.059999999989893,\n",
       "  'back_dist': 0.06000000000000069},\n",
       " {'x_curr': 10.0,\n",
       "  'curr_dirn': 1,\n",
       "  'speed': 1,\n",
       "  'reverse_speed': 1,\n",
       "  'root_dirn': 1,\n",
       "  'arr_time': 16.43,\n",
       "  'depart_time': 28.9301,\n",
       "  'for_dist': 11.24999999998712,\n",
       "  'back_dist': 1.2499999999998788},\n",
       " {'x_curr': 0.0,\n",
       "  'curr_dirn': -1,\n",
       "  'speed': 1,\n",
       "  'reverse_speed': 1,\n",
       "  'root_dirn': -1,\n",
       "  'arr_time': 19.26,\n",
       "  'depart_time': 30.7301,\n",
       "  'for_dist': 10.73499999998832,\n",
       "  'back_dist': 0.7349999999999354},\n",
       " {'x_curr': 0.0,\n",
       "  'curr_dirn': -1,\n",
       "  'speed': 1,\n",
       "  'reverse_speed': 1,\n",
       "  'root_dirn': -1,\n",
       "  'arr_time': 22.58,\n",
       "  'depart_time': 34.6501,\n",
       "  'for_dist': 11.03499999998762,\n",
       "  'back_dist': 1.0349999999999024},\n",
       " {'x_curr': 10.0,\n",
       "  'curr_dirn': 1,\n",
       "  'speed': 1,\n",
       "  'reverse_speed': 1,\n",
       "  'root_dirn': 1,\n",
       "  'arr_time': 24.93,\n",
       "  'depart_time': 35.6901,\n",
       "  'for_dist': 10.379999999989147,\n",
       "  'back_dist': 0.37999999999997447}]"
      ]
     },
     "execution_count": 14,
     "metadata": {},
     "output_type": "execute_result"
    }
   ],
   "source": [
    "reached_trucks"
   ]
  },
  {
   "cell_type": "code",
   "execution_count": 15,
   "metadata": {},
   "outputs": [],
   "source": [
    "for_dist_t = [np.array(i['for_dist']) for i in reached_trucks]\n",
    "back_dist_t = [np.array(i['back_dist']) for i in reached_trucks]\n",
    "time_taken_t = [np.array(i['depart_time']-i['arr_time']) for i in reached_trucks]"
   ]
  },
  {
   "cell_type": "code",
   "execution_count": 16,
   "metadata": {},
   "outputs": [
    {
     "name": "stdout",
     "output_type": "stream",
     "text": [
      "10.80799999998815\n",
      "0.8080000000002047\n",
      "11.6161\n"
     ]
    }
   ],
   "source": [
    "print(np.mean(for_dist_t))\n",
    "print(np.mean(back_dist_t))\n",
    "print(np.mean(time_taken_t))"
   ]
  },
  {
   "cell_type": "code",
   "execution_count": 17,
   "metadata": {},
   "outputs": [
    {
     "data": {
      "text/plain": [
       "[<matplotlib.lines.Line2D at 0x169afddde10>]"
      ]
     },
     "execution_count": 17,
     "metadata": {},
     "output_type": "execute_result"
    },
    {
     "data": {
      "image/png": "[encoded data removed]",
      "text/plain": [
       "<Figure size 432x288 with 1 Axes>"
      ]
     },
     "metadata": {
      "needs_background": "light"
     },
     "output_type": "display_data"
    }
   ],
   "source": [
    "plt.plot(for_dist_t)"
   ]
  },
  {
   "cell_type": "code",
   "execution_count": 18,
   "metadata": {},
   "outputs": [
    {
     "data": {
      "text/plain": [
       "[<matplotlib.lines.Line2D at 0x169afe88048>]"
      ]
     },
     "execution_count": 18,
     "metadata": {},
     "output_type": "execute_result"
    },
    {
     "data": {
      "image/png": "[encoded data removed]",
      "text/plain": [
       "<Figure size 432x288 with 1 Axes>"
      ]
     },
     "metadata": {
      "needs_background": "light"
     },
     "output_type": "display_data"
    }
   ],
   "source": [
    "plt.plot(back_dist_t)"
   ]
  },
  {
   "cell_type": "code",
   "execution_count": 19,
   "metadata": {},
   "outputs": [
    {
     "data": {
      "text/plain": [
       "[<matplotlib.lines.Line2D at 0x169afee40f0>]"
      ]
     },
     "execution_count": 19,
     "metadata": {},
     "output_type": "execute_result"
    },
    {
     "data": {
      "image/png": "[encoded data removed]",
      "text/plain": [
       "<Figure size 432x288 with 1 Axes>"
      ]
     },
     "metadata": {
      "needs_background": "light"
     },
     "output_type": "display_data"
    }
   ],
   "source": [
    "plt.plot(time_taken_t)"
   ]
  },
  {
   "cell_type": "code",
   "execution_count": null,
   "metadata": {},
   "outputs": [],
   "source": []
  }
 ],
 "metadata": {
  "kernelspec": {
   "display_name": "Python 3",
   "language": "python",
   "name": "python3"
  },
  "language_info": {
   "codemirror_mode": {
    "name": "ipython",
    "version": 3
   },
   "file_extension": ".py",
   "mimetype": "text/x-python",
   "name": "python",
   "nbconvert_exporter": "python",
   "pygments_lexer": "ipython3",
   "version": "3.6.5"
  }
 },
 "nbformat": 4,
 "nbformat_minor": 4
}
