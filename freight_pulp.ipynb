{
 "cells": [
  {
   "cell_type": "code",
   "execution_count": 1,
   "metadata": {},
   "outputs": [],
   "source": [
    "import pulp as plp\n",
    "\n",
    "#Input data to model in terms of nodes and junctions\n",
    "\n",
    "N=[0,1,2,3,4,5,6,7,8,9,10,11,12]\n",
    "Q=[0,1]\n",
    "Sq=[0.189,1.136]           #length of trains\n",
    "P0=[2,1,8,9,11]            #path of train 0 going from west to east(node reperesentation)\n",
    "P1=[12,10,9,5,4,3]         #path of train 1 going from east to west(node reperesentation)\n",
    "P=[P0,P1]\n",
    "common_nodes_and_trains_on_it=[[9,0,1]]\n",
    "\n",
    "J=[1,5,8,9]   #junctions\n",
    "Segments=[(0,1),(1,2),(1,8),(3,4),(4,5),(5,6),(5,9),(7,8),(7,9),(8,9),(9,10),(9,11),(10,12)]\n",
    "Segment_lengths=[1.4,1.1,0.3,1,0.5,1.5,0.5,1.5,0.7,0.5,1.0,1.5,1.5]   #miles\n",
    "speedlimit=40\n",
    "mu = 0\n",
    "M = 10000000"
   ]
  },
  {
   "cell_type": "code",
   "execution_count": 2,
   "metadata": {},
   "outputs": [
    {
     "name": "stdout",
     "output_type": "stream",
     "text": [
      "13\n"
     ]
    }
   ],
   "source": [
    "B1=[]\n",
    "for u in range(13):\n",
    "    B1.append(Segment_lengths[u]/speedlimit)\n",
    "len(B1)\n",
    "B2_0=[]\n",
    "for u in range(13):\n",
    "    B2_0.append(B1[u]+(Sq[0]/speedlimit))\n",
    "            \n",
    "    B2_1=[]\n",
    "for u in range(13):\n",
    "    B2_1.append(B1[u]+(Sq[1]/speedlimit))\n",
    "print(len(B2_1))      \n",
    "\n",
    "B2=[B2_0,B2_1]"
   ]
  },
  {
   "cell_type": "code",
   "execution_count": 3,
   "metadata": {},
   "outputs": [],
   "source": [
    "# Create a LP Minimization problem \n",
    "\n",
    "opt_model = plp.LpProblem('Freight Scheduling',plp.LpMinimize)\n",
    "\n",
    "# Create problem Variables \n",
    "\n",
    "ta =    [[plp.LpVariable(f'ta{q}_{n}',cat=plp.LpContinuous,lowBound = 0)\n",
    "        for n in P[q]]for q in Q]\n",
    "    \n",
    "td =    [[plp.LpVariable(f'td{q}_{n}',cat=plp.LpContinuous,lowBound = 0)\n",
    "        for n in P[q]]for q in Q]\n",
    "\n",
    "\n",
    "    \n",
    "X = [plp.LpVariable(f'X{n}_{q1}_{q2}',cat=plp.LpBinary)\n",
    "    for n,q1,q2 in common_nodes_and_trains_on_it]\n",
    "\n",
    "\n",
    "    # Objective Function \n",
    "\n",
    "opt_model +=  plp.lpSum(ta[q][-1:] for q in Q)   "
   ]
  },
  {
   "cell_type": "code",
   "execution_count": 4,
   "metadata": {},
   "outputs": [],
   "source": [
    "# Constraints: \n",
    "\n",
    "    \n",
    "for q in Q :\n",
    "    temp_P=P[q][:-1]\n",
    "    for i in range(len(temp_P)):\n",
    "        path=[P[q][i],P[q][i+1]]\n",
    "        path.sort()\n",
    "        path=tuple(path)\n",
    "        opt_model += ta[q][i+1]-ta[q][i] >= B1[Segments.index(path)]\n",
    "        \n",
    "for q in Q :\n",
    "    temp_P=P[q][:-1]\n",
    "    for i in range(len(temp_P)):\n",
    "        path=[P[q][i],P[q][i+1]]\n",
    "        path.sort()\n",
    "        path=tuple(path)\n",
    "        opt_model += td[q][i]-ta[q][i+1] >= B2[q][Segments.index(path)]-B1[Segments.index(path)]\n",
    "\n",
    "for q in Q:\n",
    "        path=[P[q][-1],P[q][-2]]\n",
    "        path.sort()\n",
    "        path=tuple(path)\n",
    "        opt_model += td[q][-1]-ta[q][-1] >= B2[q][Segments.index(path)]\n",
    "\n",
    "for n,q1,q2 in common_nodes_and_trains_on_it:\n",
    "    opt_model += X[0]*M + ta[q1][P[q1].index(n)]-td[q2][P[q2].index(n)] >= mu\n",
    "    opt_model += (1-X[0])*M + ta[q2][P[q2].index(n)]-td[q1][P[q1].index(n)] >= mu"
   ]
  },
  {
   "cell_type": "code",
   "execution_count": 5,
   "metadata": {},
   "outputs": [
    {
     "name": "stdout",
     "output_type": "stream",
     "text": [
      "Optimal\n"
     ]
    }
   ],
   "source": [
    "status = opt_model.solve() # Solver \n",
    "print(plp.LpStatus[status]) # The solution status "
   ]
  },
  {
   "cell_type": "code",
   "execution_count": 6,
   "metadata": {},
   "outputs": [
    {
     "name": "stdout",
     "output_type": "stream",
     "text": [
      "Freight Scheduling:\n",
      "MINIMIZE\n",
      "1*ta0_11 + 1*ta1_3 + 0\n",
      "SUBJECT TO\n",
      "_C1: ta0_1 - ta0_2 >= 0.0275\n",
      "\n",
      "_C2: - ta0_1 + ta0_8 >= 0.0075\n",
      "\n",
      "_C3: - ta0_8 + ta0_9 >= 0.0125\n",
      "\n",
      "_C4: ta0_11 - ta0_9 >= 0.0375\n",
      "\n",
      "_C5: ta1_10 - ta1_12 >= 0.0375\n",
      "\n",
      "_C6: - ta1_10 + ta1_9 >= 0.025\n",
      "\n",
      "_C7: ta1_5 - ta1_9 >= 0.0125\n",
      "\n",
      "_C8: ta1_4 - ta1_5 >= 0.0125\n",
      "\n",
      "_C9: ta1_3 - ta1_4 >= 0.025\n",
      "\n",
      "_C10: - ta0_1 + td0_2 >= 0.004725\n",
      "\n",
      "_C11: - ta0_8 + td0_1 >= 0.004725\n",
      "\n",
      "_C12: - ta0_9 + td0_8 >= 0.004725\n",
      "\n",
      "_C13: - ta0_11 + td0_9 >= 0.004725\n",
      "\n",
      "_C14: - ta1_10 + td1_12 >= 0.0284\n",
      "\n",
      "_C15: - ta1_9 + td1_10 >= 0.0284\n",
      "\n",
      "_C16: - ta1_5 + td1_9 >= 0.0284\n",
      "\n",
      "_C17: - ta1_4 + td1_5 >= 0.0284\n",
      "\n",
      "_C18: - ta1_3 + td1_4 >= 0.0284\n",
      "\n",
      "_C19: - ta0_11 + td0_11 >= 0.042225\n",
      "\n",
      "_C20: - ta1_3 + td1_3 >= 0.0534\n",
      "\n",
      "_C21: 10000000 X9_0_1 + ta0_9 - td1_9 >= 0\n",
      "\n",
      "_C22: - 10000000 X9_0_1 + ta1_9 - td0_9 >= -10000000\n",
      "\n",
      "VARIABLES\n",
      "0 <= X9_0_1 <= 1 Integer\n",
      "ta0_1 Continuous\n",
      "ta0_11 Continuous\n",
      "ta0_2 Continuous\n",
      "ta0_8 Continuous\n",
      "ta0_9 Continuous\n",
      "ta1_10 Continuous\n",
      "ta1_12 Continuous\n",
      "ta1_3 Continuous\n",
      "ta1_4 Continuous\n",
      "ta1_5 Continuous\n",
      "ta1_9 Continuous\n",
      "td0_1 Continuous\n",
      "td0_11 Continuous\n",
      "td0_2 Continuous\n",
      "td0_8 Continuous\n",
      "td0_9 Continuous\n",
      "td1_10 Continuous\n",
      "td1_12 Continuous\n",
      "td1_3 Continuous\n",
      "td1_4 Continuous\n",
      "td1_5 Continuous\n",
      "td1_9 Continuous\n",
      "\n"
     ]
    }
   ],
   "source": [
    "# Display the problem \n",
    "print(opt_model) "
   ]
  },
  {
   "cell_type": "code",
   "execution_count": 7,
   "metadata": {},
   "outputs": [
    {
     "name": "stdout",
     "output_type": "stream",
     "text": [
      "X9_0_1 0.0\n",
      "train 1 goes first through junction 9 then train 0\n",
      "ta0_2 0.0 in hours\n",
      "td0_2 0.032225 in hours\n",
      "ta0_1 0.0275 in hours\n",
      "td0_1 0.039725 in hours\n",
      "ta0_8 0.035 in hours\n",
      "td0_8 0.108125 in hours\n",
      "ta0_9 0.1034 in hours\n",
      "td0_9 0.145625 in hours\n",
      "ta0_11 0.1409 in hours\n",
      "td0_11 0.183125 in hours\n",
      "ta1_12 0.0 in hours\n",
      "td1_12 0.0659 in hours\n",
      "ta1_10 0.0375 in hours\n",
      "td1_10 0.0909 in hours\n",
      "ta1_9 0.0625 in hours\n",
      "td1_9 0.1034 in hours\n",
      "ta1_5 0.075 in hours\n",
      "td1_5 0.1159 in hours\n",
      "ta1_4 0.0875 in hours\n",
      "td1_4 0.1409 in hours\n",
      "ta1_3 0.1125 in hours\n",
      "td1_3 0.1659 in hours\n"
     ]
    }
   ],
   "source": [
    "\n",
    "\n",
    "print(X[0],plp.value(X[0]))\n",
    "print(\"train 1 goes first through junction 9 then train 0\")\n",
    "\n",
    "                \n",
    "for q in Q:\n",
    "    for n in range(len(P[q])):\n",
    "        print(ta[q][n],plp.value(ta[q][n]),\"in hours\")\n",
    "        print(td[q][n],plp.value(td[q][n]),\"in hours\")"
   ]
  }
 ],
 "metadata": {
  "kernelspec": {
   "display_name": "Python 3",
   "language": "python",
   "name": "python3"
  },
  "language_info": {
   "codemirror_mode": {
    "name": "ipython",
    "version": 3
   },
   "file_extension": ".py",
   "mimetype": "text/x-python",
   "name": "python",
   "nbconvert_exporter": "python",
   "pygments_lexer": "ipython3",
   "version": "3.6.5"
  }
 },
 "nbformat": 4,
 "nbformat_minor": 2
}
